{
 "cells": [
  {
   "cell_type": "code",
   "execution_count": 1,
   "metadata": {},
   "outputs": [],
   "source": [
    "import os\n",
    "import glob\n",
    "import cv2\n",
    "\n",
    "from time import sleep\n",
    "\n",
    "import torch\n",
    "import torchvision\n",
    "\n",
    "import matplotlib.pyplot as plt\n",
    "%matplotlib inline\n",
    "\n",
    "from dataset import WeizmannHumanActionVideo\n",
    "from image_autoencoder import ImageAutoEncoder"
   ]
  },
  {
   "cell_type": "code",
   "execution_count": 2,
   "metadata": {},
   "outputs": [
    {
     "data": {
      "text/plain": [
       "device(type='cuda', index=0)"
      ]
     },
     "execution_count": 2,
     "metadata": {},
     "output_type": "execute_result"
    }
   ],
   "source": [
    "#  use gpu if available\n",
    "device = torch.device(\"cuda:0\" if torch.cuda.is_available() else \"cpu\")\n",
    "device"
   ]
  },
  {
   "cell_type": "markdown",
   "metadata": {},
   "source": [
    "## Dataset "
   ]
  },
  {
   "cell_type": "code",
   "execution_count": 3,
   "metadata": {},
   "outputs": [],
   "source": [
    "\"\"\"\n",
    "trans_data = torchvision.transforms.Compose(\n",
    "    [torchvision.transforms.ToTensor(),\n",
    "     torchvision.transforms.Normalize((0.5, 0.5, 0.5), (0.5, 0.5, 0.5))])\n",
    "\"\"\"\n",
    "\n",
    "trans_data = torchvision.transforms.ToTensor()\n",
    "trans_label = None\n",
    "\n",
    "dataset = WeizmannHumanActionVideo(trans_data=None, trans_label=trans_label, train=True)"
   ]
  },
  {
   "cell_type": "markdown",
   "metadata": {},
   "source": [
    "## Train-test split"
   ]
  },
  {
   "cell_type": "code",
   "execution_count": 4,
   "metadata": {},
   "outputs": [],
   "source": [
    "train_size = int(0.8 * len(dataset))\n",
    "test_size = len(dataset) - train_size\n",
    "train_dataset, test_dataset = torch.utils.data.random_split(dataset, [train_size, test_size])"
   ]
  },
  {
   "cell_type": "code",
   "execution_count": 5,
   "metadata": {},
   "outputs": [
    {
     "name": "stdout",
     "output_type": "stream",
     "text": [
      "train:  74\n",
      "test:  19\n"
     ]
    }
   ],
   "source": [
    "print(\"train: \", len(train_dataset))\n",
    "print(\"test: \", len(test_dataset))"
   ]
  },
  {
   "cell_type": "markdown",
   "metadata": {},
   "source": [
    "## Training"
   ]
  },
  {
   "cell_type": "markdown",
   "metadata": {},
   "source": [
    "**Dataloader**"
   ]
  },
  {
   "cell_type": "code",
   "execution_count": 6,
   "metadata": {},
   "outputs": [],
   "source": [
    "batch_size=1"
   ]
  },
  {
   "cell_type": "code",
   "execution_count": 7,
   "metadata": {},
   "outputs": [],
   "source": [
    "train_loader = torch.utils.data.DataLoader(train_dataset, \n",
    "                                           batch_size=batch_size, \n",
    "                                           shuffle=True, \n",
    "                                           num_workers=4)\n",
    "\n",
    "test_loader = torch.utils.data.DataLoader(test_dataset, \n",
    "                                           batch_size=batch_size, \n",
    "                                           shuffle=True, \n",
    "                                           num_workers=1)"
   ]
  },
  {
   "cell_type": "code",
   "execution_count": 8,
   "metadata": {
    "scrolled": true
   },
   "outputs": [
    {
     "name": "stdout",
     "output_type": "stream",
     "text": [
      "0 torch.Size([1, 36, 3, 96, 96]) tensor([6])\n",
      "1 torch.Size([1, 49, 3, 96, 96]) tensor([6])\n",
      "2 torch.Size([1, 36, 3, 96, 96]) tensor([6])\n",
      "3 torch.Size([1, 72, 3, 96, 96]) tensor([3])\n",
      "4 torch.Size([1, 61, 3, 96, 96]) tensor([4])\n",
      "5 torch.Size([1, 39, 3, 96, 96]) tensor([1])\n",
      "6 torch.Size([1, 55, 3, 96, 96]) tensor([0])\n",
      "7 torch.Size([1, 55, 3, 96, 96]) tensor([9])\n",
      "8 torch.Size([1, 38, 3, 96, 96]) tensor([7])\n",
      "9 torch.Size([1, 93, 3, 96, 96]) tensor([4])\n",
      "10 torch.Size([1, 42, 3, 96, 96]) tensor([6])\n",
      "11 torch.Size([1, 42, 3, 96, 96]) tensor([5])\n",
      "12 torch.Size([1, 81, 3, 96, 96]) tensor([2])\n",
      "13 torch.Size([1, 68, 3, 96, 96]) tensor([3])\n",
      "14 torch.Size([1, 114, 3, 96, 96]) tensor([2])\n",
      "15 torch.Size([1, 45, 3, 96, 96]) tensor([6])\n",
      "16 torch.Size([1, 84, 3, 96, 96]) tensor([4])\n",
      "17 torch.Size([1, 53, 3, 96, 96]) tensor([1])\n",
      "18 torch.Size([1, 45, 3, 96, 96]) tensor([8])\n",
      "19 torch.Size([1, 38, 3, 96, 96]) tensor([8])\n",
      "20 torch.Size([1, 39, 3, 96, 96]) tensor([7])\n",
      "21 torch.Size([1, 63, 3, 96, 96]) tensor([4])\n",
      "22 torch.Size([1, 60, 3, 96, 96]) tensor([7])\n",
      "23 torch.Size([1, 79, 3, 96, 96]) tensor([2])\n",
      "24 torch.Size([1, 85, 3, 96, 96]) tensor([4])\n",
      "25 torch.Size([1, 39, 3, 96, 96]) tensor([8])\n",
      "26 torch.Size([1, 54, 3, 96, 96]) tensor([2])\n",
      "27 torch.Size([1, 105, 3, 96, 96]) tensor([0])\n",
      "28 torch.Size([1, 103, 3, 96, 96]) tensor([0])\n",
      "29 torch.Size([1, 60, 3, 96, 96]) tensor([9])\n",
      "30 torch.Size([1, 46, 3, 96, 96]) tensor([1])\n",
      "31 torch.Size([1, 83, 3, 96, 96]) tensor([3])\n",
      "32 torch.Size([1, 43, 3, 96, 96]) tensor([3])\n",
      "33 torch.Size([1, 78, 3, 96, 96]) tensor([3])\n",
      "34 torch.Size([1, 89, 3, 96, 96]) tensor([0])\n",
      "35 torch.Size([1, 53, 3, 96, 96]) tensor([9])\n",
      "36 torch.Size([1, 72, 3, 96, 96]) tensor([3])\n",
      "37 torch.Size([1, 64, 3, 96, 96]) tensor([4])\n",
      "38 torch.Size([1, 56, 3, 96, 96]) tensor([7])\n",
      "39 torch.Size([1, 54, 3, 96, 96]) tensor([0])\n",
      "40 torch.Size([1, 67, 3, 96, 96]) tensor([2])\n",
      "41 torch.Size([1, 41, 3, 96, 96]) tensor([6])\n",
      "42 torch.Size([1, 48, 3, 96, 96]) tensor([5])\n",
      "43 torch.Size([1, 45, 3, 96, 96]) tensor([5])\n",
      "44 torch.Size([1, 62, 3, 96, 96]) tensor([5])\n",
      "45 torch.Size([1, 41, 3, 96, 96]) tensor([6])\n",
      "46 torch.Size([1, 48, 3, 96, 96]) tensor([1])\n",
      "47 torch.Size([1, 52, 3, 96, 96]) tensor([1])\n",
      "48 torch.Size([1, 103, 3, 96, 96]) tensor([9])\n",
      "49 torch.Size([1, 43, 3, 96, 96]) tensor([1])\n",
      "50 torch.Size([1, 73, 3, 96, 96]) tensor([3])\n",
      "51 torch.Size([1, 59, 3, 96, 96]) tensor([2])\n",
      "52 torch.Size([1, 65, 3, 96, 96]) tensor([4])\n",
      "53 torch.Size([1, 40, 3, 96, 96]) tensor([8])\n",
      "54 torch.Size([1, 50, 3, 96, 96]) tensor([3])\n",
      "55 torch.Size([1, 51, 3, 96, 96]) tensor([2])\n",
      "56 torch.Size([1, 37, 3, 96, 96]) tensor([7])\n",
      "57 torch.Size([1, 125, 3, 96, 96]) tensor([9])\n",
      "58 torch.Size([1, 72, 3, 96, 96]) tensor([8])\n",
      "59 torch.Size([1, 67, 3, 96, 96]) tensor([8])\n",
      "60 torch.Size([1, 61, 3, 96, 96]) tensor([9])\n",
      "61 torch.Size([1, 64, 3, 96, 96]) tensor([1])\n",
      "62 torch.Size([1, 63, 3, 96, 96]) tensor([4])\n",
      "63 torch.Size([1, 61, 3, 96, 96]) tensor([4])\n",
      "64 torch.Size([1, 127, 3, 96, 96]) tensor([5])\n",
      "65 torch.Size([1, 51, 3, 96, 96]) tensor([0])\n",
      "66 torch.Size([1, 54, 3, 96, 96]) tensor([5])\n",
      "67 torch.Size([1, 82, 3, 96, 96]) tensor([9])\n",
      "68 torch.Size([1, 70, 3, 96, 96]) tensor([0])\n",
      "69 torch.Size([1, 60, 3, 96, 96]) tensor([9])\n",
      "70 torch.Size([1, 52, 3, 96, 96]) tensor([7])\n",
      "71 torch.Size([1, 67, 3, 96, 96]) tensor([8])\n",
      "72 torch.Size([1, 62, 3, 96, 96]) tensor([2])\n",
      "73 torch.Size([1, 56, 3, 96, 96]) tensor([6])\n"
     ]
    }
   ],
   "source": [
    "for i, (data, label) in enumerate(train_loader):\n",
    "    print(i,  data.shape, label)"
   ]
  },
  {
   "cell_type": "code",
   "execution_count": 9,
   "metadata": {},
   "outputs": [],
   "source": [
    "# data"
   ]
  },
  {
   "cell_type": "code",
   "execution_count": 10,
   "metadata": {},
   "outputs": [],
   "source": [
    "# type(data)"
   ]
  },
  {
   "cell_type": "code",
   "execution_count": null,
   "metadata": {},
   "outputs": [],
   "source": []
  },
  {
   "cell_type": "code",
   "execution_count": null,
   "metadata": {},
   "outputs": [],
   "source": []
  },
  {
   "cell_type": "markdown",
   "metadata": {},
   "source": [
    "**Iterative algorithm (SGD)**"
   ]
  },
  {
   "cell_type": "code",
   "execution_count": 9,
   "metadata": {},
   "outputs": [],
   "source": [
    "n_epochs=10"
   ]
  },
  {
   "cell_type": "code",
   "execution_count": 10,
   "metadata": {},
   "outputs": [],
   "source": [
    "# create a model from `AE` autoencoder class\n",
    "# load it to the specified device, either gpu or cpu\n",
    "\n",
    "model = ImageAutoEncoder(n_channel=3, dim_zm=2, dim_zc=2).to(device)\n",
    "\n",
    "optimizer = torch.optim.Adam(model.parameters(), lr=1e-3)\n",
    "\n",
    "criterion = torch.nn.MSELoss()"
   ]
  },
  {
   "cell_type": "code",
   "execution_count": 11,
   "metadata": {},
   "outputs": [
    {
     "name": "stdout",
     "output_type": "stream",
     "text": [
      "8673792\n",
      "x:  <built-in method type of Tensor object at 0x7ff79d322f30> torch.Size([65, 3, 96, 96])\n",
      "epoch : 1/10, batch : 0/74, loss = 0.725738\n",
      "48995328\n",
      "x:  <built-in method type of Tensor object at 0x7ff79d4229d8> torch.Size([51, 3, 96, 96])\n",
      "epoch : 1/10, batch : 1/74, loss = 0.694755\n",
      "45898240\n",
      "x:  <built-in method type of Tensor object at 0x7ff79d422318> torch.Size([45, 3, 96, 96])\n",
      "epoch : 1/10, batch : 2/74, loss = 0.306559\n",
      "45124096\n",
      "x:  <built-in method type of Tensor object at 0x7ff79d422480> torch.Size([49, 3, 96, 96])\n",
      "epoch : 1/10, batch : 3/74, loss = 0.294445\n",
      "45455872\n",
      "x:  <built-in method type of Tensor object at 0x7ff79d0aec60> torch.Size([84, 3, 96, 96])\n",
      "epoch : 1/10, batch : 4/74, loss = 0.258711\n",
      "53197824\n",
      "x:  <built-in method type of Tensor object at 0x7ff79d322900> torch.Size([72, 3, 96, 96])\n",
      "epoch : 1/10, batch : 5/74, loss = 0.240070\n",
      "50543616\n",
      "x:  <built-in method type of Tensor object at 0x7ff79d422948> torch.Size([78, 3, 96, 96])\n",
      "epoch : 1/10, batch : 6/74, loss = 0.235535\n",
      "51870720\n",
      "x:  <built-in method type of Tensor object at 0x7ff79d422318> torch.Size([68, 3, 96, 96])\n",
      "epoch : 1/10, batch : 7/74, loss = 0.213620\n",
      "49658880\n",
      "x:  <built-in method type of Tensor object at 0x7ff79d548288> torch.Size([82, 3, 96, 96])\n",
      "epoch : 1/10, batch : 8/74, loss = nan\n",
      "52755456\n",
      "x:  <built-in method type of Tensor object at 0x7ff79d4229d8> torch.Size([114, 3, 96, 96])\n"
     ]
    },
    {
     "ename": "RuntimeError",
     "evalue": "CUDA out of memory. Tried to allocate 100.00 MiB (GPU 0; 7.93 GiB total capacity; 6.89 GiB already allocated; 90.06 MiB free; 256.59 MiB cached)",
     "output_type": "error",
     "traceback": [
      "\u001b[0;31m---------------------------------------------------------------------------\u001b[0m",
      "\u001b[0;31mRuntimeError\u001b[0m                              Traceback (most recent call last)",
      "\u001b[0;32m<ipython-input-11-b8d14010ba1c>\u001b[0m in \u001b[0;36m<module>\u001b[0;34m\u001b[0m\n\u001b[1;32m     19\u001b[0m \u001b[0;34m\u001b[0m\u001b[0m\n\u001b[1;32m     20\u001b[0m         \u001b[0mloss\u001b[0m \u001b[0;34m=\u001b[0m \u001b[0mcriterion\u001b[0m\u001b[0;34m(\u001b[0m\u001b[0mx_hat\u001b[0m\u001b[0;34m,\u001b[0m \u001b[0mx\u001b[0m\u001b[0;34m)\u001b[0m \u001b[0;34m+\u001b[0m \u001b[0mtorch\u001b[0m\u001b[0;34m.\u001b[0m\u001b[0mnorm\u001b[0m\u001b[0;34m(\u001b[0m\u001b[0mzc\u001b[0m\u001b[0;34m.\u001b[0m\u001b[0mstd\u001b[0m\u001b[0;34m(\u001b[0m\u001b[0mdim\u001b[0m\u001b[0;34m=\u001b[0m\u001b[0;36m0\u001b[0m\u001b[0;34m)\u001b[0m\u001b[0;34m,\u001b[0m \u001b[0;36m2\u001b[0m\u001b[0;34m)\u001b[0m\u001b[0;34m\u001b[0m\u001b[0;34m\u001b[0m\u001b[0m\n\u001b[0;32m---> 21\u001b[0;31m         \u001b[0mloss\u001b[0m\u001b[0;34m.\u001b[0m\u001b[0mbackward\u001b[0m\u001b[0;34m(\u001b[0m\u001b[0;34m)\u001b[0m \u001b[0;31m# compute accumulated gradients\u001b[0m\u001b[0;34m\u001b[0m\u001b[0;34m\u001b[0m\u001b[0m\n\u001b[0m\u001b[1;32m     22\u001b[0m \u001b[0;34m\u001b[0m\u001b[0m\n\u001b[1;32m     23\u001b[0m         \u001b[0mtrain_loss\u001b[0m \u001b[0;34m+=\u001b[0m \u001b[0mloss\u001b[0m\u001b[0;34m.\u001b[0m\u001b[0mitem\u001b[0m\u001b[0;34m(\u001b[0m\u001b[0;34m)\u001b[0m\u001b[0;34m\u001b[0m\u001b[0;34m\u001b[0m\u001b[0m\n",
      "\u001b[0;32m/usr/local/lib/python3.6/dist-packages/torch/tensor.py\u001b[0m in \u001b[0;36mbackward\u001b[0;34m(self, gradient, retain_graph, create_graph)\u001b[0m\n\u001b[1;32m    164\u001b[0m                 \u001b[0mproducts\u001b[0m\u001b[0;34m.\u001b[0m \u001b[0mDefaults\u001b[0m \u001b[0mto\u001b[0m\u001b[0;31m \u001b[0m\u001b[0;31m`\u001b[0m\u001b[0;31m`\u001b[0m\u001b[0;32mFalse\u001b[0m\u001b[0;31m`\u001b[0m\u001b[0;31m`\u001b[0m\u001b[0;34m.\u001b[0m\u001b[0;34m\u001b[0m\u001b[0;34m\u001b[0m\u001b[0m\n\u001b[1;32m    165\u001b[0m         \"\"\"\n\u001b[0;32m--> 166\u001b[0;31m         \u001b[0mtorch\u001b[0m\u001b[0;34m.\u001b[0m\u001b[0mautograd\u001b[0m\u001b[0;34m.\u001b[0m\u001b[0mbackward\u001b[0m\u001b[0;34m(\u001b[0m\u001b[0mself\u001b[0m\u001b[0;34m,\u001b[0m \u001b[0mgradient\u001b[0m\u001b[0;34m,\u001b[0m \u001b[0mretain_graph\u001b[0m\u001b[0;34m,\u001b[0m \u001b[0mcreate_graph\u001b[0m\u001b[0;34m)\u001b[0m\u001b[0;34m\u001b[0m\u001b[0;34m\u001b[0m\u001b[0m\n\u001b[0m\u001b[1;32m    167\u001b[0m \u001b[0;34m\u001b[0m\u001b[0m\n\u001b[1;32m    168\u001b[0m     \u001b[0;32mdef\u001b[0m \u001b[0mregister_hook\u001b[0m\u001b[0;34m(\u001b[0m\u001b[0mself\u001b[0m\u001b[0;34m,\u001b[0m \u001b[0mhook\u001b[0m\u001b[0;34m)\u001b[0m\u001b[0;34m:\u001b[0m\u001b[0;34m\u001b[0m\u001b[0;34m\u001b[0m\u001b[0m\n",
      "\u001b[0;32m/usr/local/lib/python3.6/dist-packages/torch/autograd/__init__.py\u001b[0m in \u001b[0;36mbackward\u001b[0;34m(tensors, grad_tensors, retain_graph, create_graph, grad_variables)\u001b[0m\n\u001b[1;32m     97\u001b[0m     Variable._execution_engine.run_backward(\n\u001b[1;32m     98\u001b[0m         \u001b[0mtensors\u001b[0m\u001b[0;34m,\u001b[0m \u001b[0mgrad_tensors\u001b[0m\u001b[0;34m,\u001b[0m \u001b[0mretain_graph\u001b[0m\u001b[0;34m,\u001b[0m \u001b[0mcreate_graph\u001b[0m\u001b[0;34m,\u001b[0m\u001b[0;34m\u001b[0m\u001b[0;34m\u001b[0m\u001b[0m\n\u001b[0;32m---> 99\u001b[0;31m         allow_unreachable=True)  # allow_unreachable flag\n\u001b[0m\u001b[1;32m    100\u001b[0m \u001b[0;34m\u001b[0m\u001b[0m\n\u001b[1;32m    101\u001b[0m \u001b[0;34m\u001b[0m\u001b[0m\n",
      "\u001b[0;31mRuntimeError\u001b[0m: CUDA out of memory. Tried to allocate 100.00 MiB (GPU 0; 7.93 GiB total capacity; 6.89 GiB already allocated; 90.06 MiB free; 256.59 MiB cached)"
     ]
    }
   ],
   "source": [
    "for epoch in range(n_epochs):\n",
    "    model.train()\n",
    "    train_loss = 0\n",
    "    \n",
    "    for batch_id, (batch_data, _) in enumerate(train_loader):\n",
    "        print(torch.cuda.memory_allocated(device))\n",
    "        \n",
    "        # batch_data: 5D-Tensor (batch_size=1, video_len, channel, height, width)\n",
    "        # x: 4D-Tensor (video_len, channel, height, width)\n",
    "        x = torch.squeeze(batch_data, dim=0).to(device) \n",
    "               \n",
    "        optimizer.zero_grad()\n",
    "    \n",
    "        # x_hat: (video_len, channel, height, width)\n",
    "        # zc: (video_len, dim_zc)        \n",
    "        x_hat, zc = model(x) \n",
    "\n",
    "        loss = criterion(x_hat, x) + torch.norm(zc.std(dim=0), 2)\n",
    "        loss.backward() # compute accumulated gradients\n",
    "        \n",
    "        train_loss += loss.item()\n",
    "\n",
    "        optimizer.step()\n",
    "                \n",
    "        print(\"epoch : {}/{}, batch : {}/{}, loss = {:.6f}\".format(\n",
    "            epoch + 1, n_epochs, batch_id, int(len(train_dataset)/batch_size), loss.item()))   \n",
    "        del zc\n",
    "        del x_hat\n",
    "    print(\"epoch : {}/{}, loss = {:.4f}\".format(epoch + 1, n_epochs, train_loss / len(train_loader)))"
   ]
  },
  {
   "cell_type": "code",
   "execution_count": 13,
   "metadata": {},
   "outputs": [],
   "source": [
    "with torch.cuda.device('cuda:0'):\n",
    "    torch.cuda.empty_cache()"
   ]
  },
  {
   "cell_type": "code",
   "execution_count": 14,
   "metadata": {},
   "outputs": [
    {
     "name": "stdout",
     "output_type": "stream",
     "text": [
      "Sun Apr 12 00:15:30 2020       \r\n",
      "+-----------------------------------------------------------------------------+\r\n",
      "| NVIDIA-SMI 418.87.01    Driver Version: 418.87.01    CUDA Version: 10.1     |\r\n",
      "|-------------------------------+----------------------+----------------------+\r\n",
      "| GPU  Name        Persistence-M| Bus-Id        Disp.A | Volatile Uncorr. ECC |\r\n",
      "| Fan  Temp  Perf  Pwr:Usage/Cap|         Memory-Usage | GPU-Util  Compute M. |\r\n",
      "|===============================+======================+======================|\r\n",
      "|   0  GeForce GTX 1080    Off  | 00000000:01:00.0 Off |                  N/A |\r\n",
      "| 38%   45C    P2    40W / 200W |   7901MiB /  8118MiB |      0%      Default |\r\n",
      "+-------------------------------+----------------------+----------------------+\r\n",
      "                                                                               \r\n",
      "+-----------------------------------------------------------------------------+\r\n",
      "| Processes:                                                       GPU Memory |\r\n",
      "|  GPU       PID   Type   Process name                             Usage      |\r\n",
      "|=============================================================================|\r\n",
      "|    0       703      C   /usr/bin/python3                            7707MiB |\r\n",
      "|    0      1107      G   /usr/lib/xorg/Xorg                            65MiB |\r\n",
      "|    0      2994      G   compiz                                       116MiB |\r\n",
      "+-----------------------------------------------------------------------------+\r\n"
     ]
    }
   ],
   "source": [
    "!nvidia-smi"
   ]
  },
  {
   "cell_type": "code",
   "execution_count": null,
   "metadata": {},
   "outputs": [],
   "source": [
    "\n",
    "\n"
   ]
  },
  {
   "cell_type": "code",
   "execution_count": null,
   "metadata": {},
   "outputs": [],
   "source": [
    "\n",
    "\n"
   ]
  },
  {
   "cell_type": "code",
   "execution_count": null,
   "metadata": {},
   "outputs": [],
   "source": [
    "\n",
    "\n"
   ]
  },
  {
   "cell_type": "code",
   "execution_count": null,
   "metadata": {},
   "outputs": [],
   "source": [
    "\n",
    "\n"
   ]
  },
  {
   "cell_type": "code",
   "execution_count": null,
   "metadata": {},
   "outputs": [],
   "source": []
  },
  {
   "cell_type": "code",
   "execution_count": null,
   "metadata": {},
   "outputs": [],
   "source": []
  },
  {
   "cell_type": "code",
   "execution_count": null,
   "metadata": {},
   "outputs": [],
   "source": []
  },
  {
   "cell_type": "code",
   "execution_count": null,
   "metadata": {},
   "outputs": [],
   "source": []
  },
  {
   "cell_type": "code",
   "execution_count": null,
   "metadata": {},
   "outputs": [],
   "source": []
  },
  {
   "cell_type": "code",
   "execution_count": null,
   "metadata": {},
   "outputs": [],
   "source": []
  },
  {
   "cell_type": "code",
   "execution_count": null,
   "metadata": {},
   "outputs": [],
   "source": []
  }
 ],
 "metadata": {
  "kernelspec": {
   "display_name": "Python 3",
   "language": "python",
   "name": "python3"
  },
  "language_info": {
   "codemirror_mode": {
    "name": "ipython",
    "version": 3
   },
   "file_extension": ".py",
   "mimetype": "text/x-python",
   "name": "python",
   "nbconvert_exporter": "python",
   "pygments_lexer": "ipython3",
   "version": "3.6.9"
  },
  "toc": {
   "base_numbering": 1,
   "nav_menu": {},
   "number_sections": true,
   "sideBar": true,
   "skip_h1_title": false,
   "title_cell": "Table of Contents",
   "title_sidebar": "Contents",
   "toc_cell": false,
   "toc_position": {},
   "toc_section_display": true,
   "toc_window_display": false
  }
 },
 "nbformat": 4,
 "nbformat_minor": 2
}
