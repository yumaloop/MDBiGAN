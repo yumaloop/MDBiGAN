{
 "cells": [
  {
   "cell_type": "code",
   "execution_count": 1,
   "metadata": {},
   "outputs": [],
   "source": [
    "import numpy as np\n",
    "import torch\n",
    "import torchvision\n",
    "\n",
    "from dataset import WeizmannHumanActionVideo\n",
    "from mocogan import Generator, ImageDiscriminator, VideoDiscriminator, RNN, weights_init_normal"
   ]
  },
  {
   "cell_type": "code",
   "execution_count": 2,
   "metadata": {},
   "outputs": [
    {
     "name": "stdout",
     "output_type": "stream",
     "text": [
      "device:  cuda:0\n"
     ]
    }
   ],
   "source": [
    "# use gpu if available\n",
    "device = torch.device(\"cuda:0\" if torch.cuda.is_available() else \"cpu\")\n",
    "print(\"device: \", device)"
   ]
  },
  {
   "cell_type": "code",
   "execution_count": null,
   "metadata": {},
   "outputs": [],
   "source": [
    "trans_data = torchvision.transforms.ToTensor()\n",
    "trans_label = None\n",
    "dataset = WeizmannHumanActionVideo(trans_data=None, trans_label=trans_label, train=True)\n",
    "\n",
    "# train-test split\n",
    "train_size = int(1.0 * len(dataset))\n",
    "test_size = len(dataset) - train_size\n",
    "train_dataset, test_dataset = torch.utils.data.random_split(dataset, [train_size, test_size])\n",
    "print(\"train: \", len(train_dataset))\n",
    "print(\"test: \", len(test_dataset))\n",
    "\n",
    "train_loader = torch.utils.data.DataLoader(train_dataset, \n",
    "                                           batch_size=batch_size, \n",
    "                                           shuffle=True, \n",
    "                                           num_workers=4)"
   ]
  },
  {
   "cell_type": "code",
   "execution_count": null,
   "metadata": {},
   "outputs": [],
   "source": [
    "# ===================\n",
    "# Params\n",
    "batch_size=1\n",
    "n_epochs=100\n",
    "T = 16\n",
    "n_channel = 3\n",
    "dim_zc = 2\n",
    "dim_zm = 2\n",
    "dim_e  = 16\n",
    "# ==================="
   ]
  },
  {
   "cell_type": "code",
   "execution_count": null,
   "metadata": {},
   "outputs": [],
   "source": [
    "# model\n",
    "netR  = RNN(dim_zm=dim_zm, dim_e=dim_e).to(device)\n",
    "netG  = Generator(n_channel=n_channel, dim_zm=dim_zm, dim_zc=dim_zc).to(device)\n",
    "netDI = ImageDiscriminator(n_channel=n_channel, dim_zm=dim_zm, dim_zc=dim_zc).to(device)\n",
    "netDV = VideoDiscriminator(n_channel=n_channel, dim_zm=dim_zm, dim_zc=dim_zc).to(device)\n",
    "\n",
    "# Initialize model weights\n",
    "netR.apply(weights_init_normal)\n",
    "netG.apply(weights_init_normal)\n",
    "netDI.apply(weights_init_normal)\n",
    "netDV.apply(weights_init_normal)\n",
    "\n",
    "# Optimizers\n",
    "optim_R  = torch.optim.Adam(netR.parameters(),  lr=0.0002, betas=(0.5, 0.999))\n",
    "optim_G  = torch.optim.Adam(netG.parameters(),  lr=0.0002, betas=(0.5, 0.999))\n",
    "optim_DI = torch.optim.Adam(netDI.parameters(), lr=0.0002, betas=(0.5, 0.999))\n",
    "optim_DV = torch.optim.Adam(netDV.parameters(), lr=0.0002, betas=(0.5, 0.999))\n",
    "\n",
    "# criterion = torch.nn.MSELoss()\n",
    "criterion = torch.nn.BCELoss(reduction='mean')\n",
    "                                                               \n",
    "real_label = 1\n",
    "fake_label = 0"
   ]
  },
  {
   "cell_type": "code",
   "execution_count": 25,
   "metadata": {},
   "outputs": [],
   "source": [
    "def S_1(video):\n",
    "    \"\"\"\n",
    "    video: torch.Tensor()\n",
    "        (batch_size, video_len, channel, height, width)\n",
    "    image: torch.Tensor()\n",
    "        (batch_size, channel, height, width)\n",
    "    \"\"\"\n",
    "    idx = int(np.random.rand() * video.shape[1])\n",
    "    image =  torch.unsqueeze(torch.squeeze(video[:, idx:idx+1, :, :, :]), dim=0)\n",
    "    return image"
   ]
  },
  {
   "cell_type": "code",
   "execution_count": 26,
   "metadata": {},
   "outputs": [],
   "source": [
    "def S_T(video, T):\n",
    "    \"\"\"\n",
    "    video: torch.Tensor()\n",
    "        (batch_size, video_len, channel, height, width)\n",
    "    \"\"\"\n",
    "    idx = int(np.random.rand() * (video.shape[1] - T))\n",
    "    return video[:, idx:idx+T, :, :, :]"
   ]
  },
  {
   "cell_type": "code",
   "execution_count": 27,
   "metadata": {},
   "outputs": [
    {
     "data": {
      "text/plain": [
       "torch.Size([1, 50, 3, 96, 96])"
      ]
     },
     "execution_count": 27,
     "metadata": {},
     "output_type": "execute_result"
    }
   ],
   "source": [
    "video = torch.randn(1, 50, 3, 96, 96)\n",
    "video.shape"
   ]
  },
  {
   "cell_type": "code",
   "execution_count": 28,
   "metadata": {},
   "outputs": [],
   "source": [
    "y = S_T(video, T=5)"
   ]
  },
  {
   "cell_type": "code",
   "execution_count": 29,
   "metadata": {},
   "outputs": [
    {
     "data": {
      "text/plain": [
       "torch.Size([1, 5, 3, 96, 96])"
      ]
     },
     "execution_count": 29,
     "metadata": {},
     "output_type": "execute_result"
    }
   ],
   "source": [
    "y.shape"
   ]
  },
  {
   "cell_type": "code",
   "execution_count": 30,
   "metadata": {},
   "outputs": [],
   "source": [
    "y = S_1(video)"
   ]
  },
  {
   "cell_type": "code",
   "execution_count": 31,
   "metadata": {},
   "outputs": [
    {
     "data": {
      "text/plain": [
       "torch.Size([1, 3, 96, 96])"
      ]
     },
     "execution_count": 31,
     "metadata": {},
     "output_type": "execute_result"
    }
   ],
   "source": [
    "y.shape"
   ]
  },
  {
   "cell_type": "code",
   "execution_count": null,
   "metadata": {},
   "outputs": [],
   "source": []
  },
  {
   "cell_type": "code",
   "execution_count": null,
   "metadata": {},
   "outputs": [],
   "source": []
  },
  {
   "cell_type": "code",
   "execution_count": null,
   "metadata": {},
   "outputs": [],
   "source": []
  },
  {
   "cell_type": "code",
   "execution_count": null,
   "metadata": {},
   "outputs": [],
   "source": []
  },
  {
   "cell_type": "code",
   "execution_count": null,
   "metadata": {},
   "outputs": [],
   "source": []
  },
  {
   "cell_type": "code",
   "execution_count": null,
   "metadata": {},
   "outputs": [],
   "source": [
    "def train_model(epoch):\n",
    "    netG.train()\n",
    "    netG.to(device)\n",
    "    netDI.train()\n",
    "    netDI.to(device)\n",
    "    netDV.train()\n",
    "    netDV.to(device)\n",
    "    \n",
    "    train_loss_G = 0\n",
    "    train_loss_DI = 0\n",
    "\n",
    "    for batch_idx, (batch_data, _) in enumerate(train_loader):\n",
    "        # data format\n",
    "        batch_size, video_len, channel, height, width = batch_data.shape\n",
    "        \n",
    "        # =====================================\n",
    "        # (1) Update DI, DV network: \n",
    "        #     maximize   log ( DI ( SI(x) ) ) + log(1 - DI ( SI ( G(z) ) ) )\n",
    "        #              + log ( DV ( SV(x) ) ) + log(1 - DV ( SV ( G(z) ) ) )\n",
    "        # =====================================\n",
    "\n",
    "        ## ------------------------------------\n",
    "        ## Train with all-real batch\n",
    "        ## ------------------------------------\n",
    "        netDI.zero_grad()\n",
    "        netDV.zero_grad()\n",
    "        \n",
    "        # v_real: (batch_size=1, video_len, channel, height, width)\n",
    "        v_real = batch_data.to(device) \n",
    "\n",
    "        label_DI = torch.full((batch_size,),   real_label).to(device)\n",
    "        label_DV = torch.full((batch_size, T), real_label).to(device)\n",
    "\n",
    "        # Forward pass real batch through D\n",
    "        output_DI = netDI(S_1(v_real))\n",
    "        output_DV = netDV(S_T(v_real, T))\n",
    "        \n",
    "        # Calculate loss on all-real batch\n",
    "        loss_DI_real = criterion(output_DI, label_DI)\n",
    "        loss_DV_real = criterion(output_DV, label_DV)\n",
    "        loss_D_real  = loss_DI_real + loss_DV_real\n",
    "\n",
    "        # Calculate gradients for D in backward pass\n",
    "        loss_D_real.backward()\n",
    "\n",
    "\n",
    "        ## ------------------------------------\n",
    "        ## Train with all-fake batch\n",
    "        ## ------------------------------------\n",
    "        zc = torch.randn(batch_size, 1, self.dim_zc).repeat(1, video_len, 1).to(device)\n",
    "        e  = torch.randn(batch_size, video_len, dim_e).to(device)\n",
    "        zm = RNN(e)\n",
    "        \n",
    "        # v_fake: (batch_size, video_len, channel, height, width)\n",
    "        v_fake = netG(zc, zm) \n",
    "        \n",
    "        label_DI.fill_(fake_label)\n",
    "        label_DV.fill_(fake_label)\n",
    "\n",
    "        # Forward pass real batch through D\n",
    "        output_DI = netDI(S_1(v_fake))\n",
    "        output_DV = netDV(S_T(v_fake, T))\n",
    "        \n",
    "        # Calculate loss on all-real batch\n",
    "        loss_DI_fake = criterion(output_DI, label_DI)\n",
    "        loss_DV_fake = criterion(output_DV, label_DV)\n",
    "        loss_D_fake  = loss_DI_fake + loss_DV_fake\n",
    "\n",
    "        # Calculate gradients for D in backward pass\n",
    "        loss_D_fake.backward()\n",
    "\n",
    "        # Sum\n",
    "        loss_D = loss_D_real + loss_D_fake \n",
    "\n",
    "        # Update DI, DV\n",
    "        optim_DI.step()\n",
    "        optim_DV.step()\n",
    "\n",
    "\n",
    "        # =====================================\n",
    "        # (2) Update G, R network: \n",
    "        #     maximize  log(DI ( SI ( G(z) ) ) )\n",
    "        #             + log(DV ( SV ( G(z) ) ) )\n",
    "        # =====================================\n",
    "\n",
    "        netR.zero_grad()\n",
    "        netG.zero_grad()\n",
    "\n",
    "        label_DI.fill_(real_label)\n",
    "        label_DV.fill_(real_label)\n",
    "\n",
    "        # Forward pass real batch through D\n",
    "        output_DI = netDI(S_1(v_fake))\n",
    "        output_DV = netDV(S_T(v_fake, T))\n",
    "\n",
    "        # Calculate loss on all-real batch\n",
    "        loss_G_fake = criterion(output_DI, label_DI)\n",
    "        loss_G_fake = criterion(output_DV, label_DV)\n",
    "        loss_G_fake = loss_G_fake + loss_G_fake\n",
    "\n",
    "        # Calculate gradients for D in backward pass\n",
    "        loss_G_fake.backward()\n",
    "\n",
    "        # Sum\n",
    "        optim_R.step()\n",
    "        optim_G.step()\n",
    "\n",
    "        print(epoch)\n",
    "\n",
    "\n",
    "if __name__ == \"__main__\":\n",
    "    for epoch in range(n_epochs):\n",
    "        train_model(epoch)\n",
    "        eval_model(epoch)\n",
    "        model_path = './trained_models/mocogan'+str(epoch)+'.pth'\n",
    "        torch.save(model.to('cpu').state_dict(), model_path)\n",
    "                                            \n"
   ]
  }
 ],
 "metadata": {
  "kernelspec": {
   "display_name": "Python 3",
   "language": "python",
   "name": "python3"
  },
  "language_info": {
   "codemirror_mode": {
    "name": "ipython",
    "version": 3
   },
   "file_extension": ".py",
   "mimetype": "text/x-python",
   "name": "python",
   "nbconvert_exporter": "python",
   "pygments_lexer": "ipython3",
   "version": "3.6.9"
  },
  "toc": {
   "base_numbering": 1,
   "nav_menu": {},
   "number_sections": true,
   "sideBar": true,
   "skip_h1_title": false,
   "title_cell": "Table of Contents",
   "title_sidebar": "Contents",
   "toc_cell": false,
   "toc_position": {},
   "toc_section_display": true,
   "toc_window_display": false
  }
 },
 "nbformat": 4,
 "nbformat_minor": 2
}
